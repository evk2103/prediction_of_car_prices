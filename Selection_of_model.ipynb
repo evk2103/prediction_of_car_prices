{
  "nbformat": 4,
  "nbformat_minor": 0,
  "metadata": {
    "colab": {
      "provenance": [],
      "include_colab_link": true
    },
    "kernelspec": {
      "name": "python3",
      "display_name": "Python 3"
    },
    "language_info": {
      "name": "python"
    }
  },
  "cells": [
    {
      "cell_type": "markdown",
      "metadata": {
        "id": "view-in-github",
        "colab_type": "text"
      },
      "source": [
        "<a href=\"https://colab.research.google.com/github/evk2103/prediction_of_car_prices/blob/main/Selection_of_model.ipynb\" target=\"_parent\"><img src=\"https://colab.research.google.com/assets/colab-badge.svg\" alt=\"Open In Colab\"/></a>"
      ]
    },
    {
      "cell_type": "markdown",
      "source": [
        "# Подержанные автомобили"
      ],
      "metadata": {
        "id": "d04VdHY7jUnn"
      }
    },
    {
      "cell_type": "markdown",
      "source": [
        "Датасет содержит информацию о характеристиках и ценах подержанных автомобилей в некоторой стране"
      ],
      "metadata": {
        "id": "DxMCeYxukBKi"
      }
    },
    {
      "cell_type": "markdown",
      "source": [
        "## Импорт библиотек, константы"
      ],
      "metadata": {
        "id": "lhA1Am55jZ3D"
      }
    },
    {
      "cell_type": "code",
      "source": [
        "!pip install category_encoders -q"
      ],
      "metadata": {
        "colab": {
          "base_uri": "https://localhost:8080/"
        },
        "id": "j8-NwOekGvD8",
        "outputId": "71ee7d8f-3468-479c-9033-6e48be0af758"
      },
      "execution_count": null,
      "outputs": [
        {
          "output_type": "stream",
          "name": "stdout",
          "text": [
            "\u001b[?25l     \u001b[90m━━━━━━━━━━━━━━━━━━━━━━━━━━━━━━━━━━━━━━━━\u001b[0m \u001b[32m0.0/81.9 kB\u001b[0m \u001b[31m?\u001b[0m eta \u001b[36m-:--:--\u001b[0m\r\u001b[2K     \u001b[90m━━━━━━━━━━━━━━━━━━━━━━━━━━━━━━━━━━━━━━━━\u001b[0m \u001b[32m81.9/81.9 kB\u001b[0m \u001b[31m4.1 MB/s\u001b[0m eta \u001b[36m0:00:00\u001b[0m\n",
            "\u001b[?25h"
          ]
        }
      ]
    },
    {
      "cell_type": "code",
      "execution_count": null,
      "metadata": {
        "id": "HV1hv_cBi-zx"
      },
      "outputs": [],
      "source": [
        "import numpy as np\n",
        "import pandas as pd\n",
        "\n",
        "from sklearn.model_selection import train_test_split\n",
        "from sklearn.model_selection import cross_val_score\n",
        "from sklearn.model_selection import GridSearchCV\n",
        "\n",
        "from sklearn.preprocessing import MinMaxScaler\n",
        "from sklearn.preprocessing import StandardScaler\n",
        "from sklearn.preprocessing import PolynomialFeatures\n",
        "\n",
        "from sklearn.linear_model import LinearRegression\n",
        "from sklearn.linear_model import Ridge\n",
        "from sklearn.svm import SVR\n",
        "from sklearn.neighbors import KNeighborsRegressor\n",
        "from sklearn.ensemble import RandomForestRegressor\n",
        "from sklearn.ensemble import GradientBoostingRegressor\n",
        "\n",
        "from sklearn.pipeline import Pipeline\n",
        "\n",
        "from sklearn.metrics import r2_score\n",
        "\n",
        "from category_encoders.target_encoder import TargetEncoder\n",
        "from category_encoders.leave_one_out import LeaveOneOutEncoder\n"
      ]
    },
    {
      "cell_type": "code",
      "source": [
        "RANDOM_STATE = 42"
      ],
      "metadata": {
        "id": "IfM0ZXowjluS"
      },
      "execution_count": null,
      "outputs": []
    },
    {
      "cell_type": "code",
      "source": [
        "DATASET_PATH = 'https://raw.githubusercontent.com/evk2103/prediction_of_car_prices/main/clean_cars.csv'"
      ],
      "metadata": {
        "id": "otQxpwuxjoBA"
      },
      "execution_count": null,
      "outputs": []
    },
    {
      "cell_type": "code",
      "source": [
        "# загрузка данных\n",
        "df = pd.read_csv(DATASET_PATH)"
      ],
      "metadata": {
        "id": "akRLgc55jyGl"
      },
      "execution_count": null,
      "outputs": []
    },
    {
      "cell_type": "code",
      "source": [
        "# информация от столбцах\n",
        "df.info()"
      ],
      "metadata": {
        "colab": {
          "base_uri": "https://localhost:8080/"
        },
        "id": "VterO9sXkWTi",
        "outputId": "c2855e18-ec99-4cff-962a-09cf15de4327"
      },
      "execution_count": null,
      "outputs": [
        {
          "output_type": "stream",
          "name": "stdout",
          "text": [
            "<class 'pandas.core.frame.DataFrame'>\n",
            "RangeIndex: 6769 entries, 0 to 6768\n",
            "Data columns (total 14 columns):\n",
            " #   Column         Non-Null Count  Dtype  \n",
            "---  ------         --------------  -----  \n",
            " 0   name           6769 non-null   object \n",
            " 1   year           6769 non-null   int64  \n",
            " 2   selling_price  6769 non-null   int64  \n",
            " 3   km_driven      6769 non-null   int64  \n",
            " 4   fuel           6769 non-null   object \n",
            " 5   seller_type    6769 non-null   object \n",
            " 6   transmission   6769 non-null   object \n",
            " 7   owner          6769 non-null   object \n",
            " 8   mileage        6769 non-null   float64\n",
            " 9   engine         6769 non-null   int64  \n",
            " 10  max_power      6769 non-null   float64\n",
            " 11  seats          6769 non-null   int64  \n",
            " 12  torque_1       6769 non-null   float64\n",
            " 13  torque_2       6769 non-null   int64  \n",
            "dtypes: float64(3), int64(6), object(5)\n",
            "memory usage: 740.5+ KB\n"
          ]
        }
      ]
    },
    {
      "cell_type": "code",
      "source": [
        "# случайные три записи из датасета\n",
        "df.sample(3)"
      ],
      "metadata": {
        "colab": {
          "base_uri": "https://localhost:8080/",
          "height": 143
        },
        "id": "RsDeQvZXmVpW",
        "outputId": "84d9d8ee-8a16-4de9-a2c3-5768a5e09ea1"
      },
      "execution_count": null,
      "outputs": [
        {
          "output_type": "execute_result",
          "data": {
            "text/plain": [
              "                                      name  year  selling_price  km_driven  \\\n",
              "6344      Renault KWID Climber 1.0 MT BSIV  2019         300000      35000   \n",
              "1067  Chevrolet Optra Magnum 1.6 LT Petrol  2009         250000      80000   \n",
              "4794             Hyundai Sonata 2.4 GDi MT  2012         525000      70000   \n",
              "\n",
              "        fuel seller_type transmission         owner  mileage  engine  \\\n",
              "6344  Petrol  Individual       Manual   First Owner    23.01     999   \n",
              "1067  Petrol  Individual       Manual  Second Owner    12.90    1598   \n",
              "4794  Petrol  Individual       Manual  Second Owner    13.44    2359   \n",
              "\n",
              "      max_power  seats  torque_1  torque_2  \n",
              "6344      67.00      5      91.0      4250  \n",
              "1067     102.50      5     148.0      4000  \n",
              "4794     198.25      5     250.0      4250  "
            ],
            "text/html": [
              "\n",
              "  <div id=\"df-40f6e269-34b2-4a8e-9be4-477e383ffce0\">\n",
              "    <div class=\"colab-df-container\">\n",
              "      <div>\n",
              "<style scoped>\n",
              "    .dataframe tbody tr th:only-of-type {\n",
              "        vertical-align: middle;\n",
              "    }\n",
              "\n",
              "    .dataframe tbody tr th {\n",
              "        vertical-align: top;\n",
              "    }\n",
              "\n",
              "    .dataframe thead th {\n",
              "        text-align: right;\n",
              "    }\n",
              "</style>\n",
              "<table border=\"1\" class=\"dataframe\">\n",
              "  <thead>\n",
              "    <tr style=\"text-align: right;\">\n",
              "      <th></th>\n",
              "      <th>name</th>\n",
              "      <th>year</th>\n",
              "      <th>selling_price</th>\n",
              "      <th>km_driven</th>\n",
              "      <th>fuel</th>\n",
              "      <th>seller_type</th>\n",
              "      <th>transmission</th>\n",
              "      <th>owner</th>\n",
              "      <th>mileage</th>\n",
              "      <th>engine</th>\n",
              "      <th>max_power</th>\n",
              "      <th>seats</th>\n",
              "      <th>torque_1</th>\n",
              "      <th>torque_2</th>\n",
              "    </tr>\n",
              "  </thead>\n",
              "  <tbody>\n",
              "    <tr>\n",
              "      <th>6344</th>\n",
              "      <td>Renault KWID Climber 1.0 MT BSIV</td>\n",
              "      <td>2019</td>\n",
              "      <td>300000</td>\n",
              "      <td>35000</td>\n",
              "      <td>Petrol</td>\n",
              "      <td>Individual</td>\n",
              "      <td>Manual</td>\n",
              "      <td>First Owner</td>\n",
              "      <td>23.01</td>\n",
              "      <td>999</td>\n",
              "      <td>67.00</td>\n",
              "      <td>5</td>\n",
              "      <td>91.0</td>\n",
              "      <td>4250</td>\n",
              "    </tr>\n",
              "    <tr>\n",
              "      <th>1067</th>\n",
              "      <td>Chevrolet Optra Magnum 1.6 LT Petrol</td>\n",
              "      <td>2009</td>\n",
              "      <td>250000</td>\n",
              "      <td>80000</td>\n",
              "      <td>Petrol</td>\n",
              "      <td>Individual</td>\n",
              "      <td>Manual</td>\n",
              "      <td>Second Owner</td>\n",
              "      <td>12.90</td>\n",
              "      <td>1598</td>\n",
              "      <td>102.50</td>\n",
              "      <td>5</td>\n",
              "      <td>148.0</td>\n",
              "      <td>4000</td>\n",
              "    </tr>\n",
              "    <tr>\n",
              "      <th>4794</th>\n",
              "      <td>Hyundai Sonata 2.4 GDi MT</td>\n",
              "      <td>2012</td>\n",
              "      <td>525000</td>\n",
              "      <td>70000</td>\n",
              "      <td>Petrol</td>\n",
              "      <td>Individual</td>\n",
              "      <td>Manual</td>\n",
              "      <td>Second Owner</td>\n",
              "      <td>13.44</td>\n",
              "      <td>2359</td>\n",
              "      <td>198.25</td>\n",
              "      <td>5</td>\n",
              "      <td>250.0</td>\n",
              "      <td>4250</td>\n",
              "    </tr>\n",
              "  </tbody>\n",
              "</table>\n",
              "</div>\n",
              "      <button class=\"colab-df-convert\" onclick=\"convertToInteractive('df-40f6e269-34b2-4a8e-9be4-477e383ffce0')\"\n",
              "              title=\"Convert this dataframe to an interactive table.\"\n",
              "              style=\"display:none;\">\n",
              "        \n",
              "  <svg xmlns=\"http://www.w3.org/2000/svg\" height=\"24px\"viewBox=\"0 0 24 24\"\n",
              "       width=\"24px\">\n",
              "    <path d=\"M0 0h24v24H0V0z\" fill=\"none\"/>\n",
              "    <path d=\"M18.56 5.44l.94 2.06.94-2.06 2.06-.94-2.06-.94-.94-2.06-.94 2.06-2.06.94zm-11 1L8.5 8.5l.94-2.06 2.06-.94-2.06-.94L8.5 2.5l-.94 2.06-2.06.94zm10 10l.94 2.06.94-2.06 2.06-.94-2.06-.94-.94-2.06-.94 2.06-2.06.94z\"/><path d=\"M17.41 7.96l-1.37-1.37c-.4-.4-.92-.59-1.43-.59-.52 0-1.04.2-1.43.59L10.3 9.45l-7.72 7.72c-.78.78-.78 2.05 0 2.83L4 21.41c.39.39.9.59 1.41.59.51 0 1.02-.2 1.41-.59l7.78-7.78 2.81-2.81c.8-.78.8-2.07 0-2.86zM5.41 20L4 18.59l7.72-7.72 1.47 1.35L5.41 20z\"/>\n",
              "  </svg>\n",
              "      </button>\n",
              "      \n",
              "  <style>\n",
              "    .colab-df-container {\n",
              "      display:flex;\n",
              "      flex-wrap:wrap;\n",
              "      gap: 12px;\n",
              "    }\n",
              "\n",
              "    .colab-df-convert {\n",
              "      background-color: #E8F0FE;\n",
              "      border: none;\n",
              "      border-radius: 50%;\n",
              "      cursor: pointer;\n",
              "      display: none;\n",
              "      fill: #1967D2;\n",
              "      height: 32px;\n",
              "      padding: 0 0 0 0;\n",
              "      width: 32px;\n",
              "    }\n",
              "\n",
              "    .colab-df-convert:hover {\n",
              "      background-color: #E2EBFA;\n",
              "      box-shadow: 0px 1px 2px rgba(60, 64, 67, 0.3), 0px 1px 3px 1px rgba(60, 64, 67, 0.15);\n",
              "      fill: #174EA6;\n",
              "    }\n",
              "\n",
              "    [theme=dark] .colab-df-convert {\n",
              "      background-color: #3B4455;\n",
              "      fill: #D2E3FC;\n",
              "    }\n",
              "\n",
              "    [theme=dark] .colab-df-convert:hover {\n",
              "      background-color: #434B5C;\n",
              "      box-shadow: 0px 1px 3px 1px rgba(0, 0, 0, 0.15);\n",
              "      filter: drop-shadow(0px 1px 2px rgba(0, 0, 0, 0.3));\n",
              "      fill: #FFFFFF;\n",
              "    }\n",
              "  </style>\n",
              "\n",
              "      <script>\n",
              "        const buttonEl =\n",
              "          document.querySelector('#df-40f6e269-34b2-4a8e-9be4-477e383ffce0 button.colab-df-convert');\n",
              "        buttonEl.style.display =\n",
              "          google.colab.kernel.accessAllowed ? 'block' : 'none';\n",
              "\n",
              "        async function convertToInteractive(key) {\n",
              "          const element = document.querySelector('#df-40f6e269-34b2-4a8e-9be4-477e383ffce0');\n",
              "          const dataTable =\n",
              "            await google.colab.kernel.invokeFunction('convertToInteractive',\n",
              "                                                     [key], {});\n",
              "          if (!dataTable) return;\n",
              "\n",
              "          const docLinkHtml = 'Like what you see? Visit the ' +\n",
              "            '<a target=\"_blank\" href=https://colab.research.google.com/notebooks/data_table.ipynb>data table notebook</a>'\n",
              "            + ' to learn more about interactive tables.';\n",
              "          element.innerHTML = '';\n",
              "          dataTable['output_type'] = 'display_data';\n",
              "          await google.colab.output.renderOutput(dataTable, element);\n",
              "          const docLink = document.createElement('div');\n",
              "          docLink.innerHTML = docLinkHtml;\n",
              "          element.appendChild(docLink);\n",
              "        }\n",
              "      </script>\n",
              "    </div>\n",
              "  </div>\n",
              "  "
            ]
          },
          "metadata": {},
          "execution_count": 6
        }
      ]
    },
    {
      "cell_type": "code",
      "source": [
        "X = df.drop(columns=['selling_price'])\n",
        "y = df['selling_price']"
      ],
      "metadata": {
        "id": "mHBMTw2L-IzQ"
      },
      "execution_count": null,
      "outputs": []
    },
    {
      "cell_type": "code",
      "source": [
        "y_log = np.log1p(y)"
      ],
      "metadata": {
        "id": "ChC1vPw5FHL_"
      },
      "execution_count": null,
      "outputs": []
    },
    {
      "cell_type": "code",
      "source": [
        "X.owner.unique()"
      ],
      "metadata": {
        "colab": {
          "base_uri": "https://localhost:8080/"
        },
        "id": "wZs2U7qFCImE",
        "outputId": "2894744e-7782-4ba9-f143-c8a383b8cfc5"
      },
      "execution_count": null,
      "outputs": [
        {
          "output_type": "execute_result",
          "data": {
            "text/plain": [
              "array(['First Owner', 'Second Owner', 'Third Owner',\n",
              "       'Fourth & Above Owner', 'Test Drive Car'], dtype=object)"
            ]
          },
          "metadata": {},
          "execution_count": 8
        }
      ]
    },
    {
      "cell_type": "code",
      "source": [
        "# закодируем столбец owner\n",
        "owner = {'Test Drive Car': 0, 'First Owner': 1, 'Second Owner': 2, 'Third Owner': 3, 'Fourth & Above Owner': 4}\n",
        "X['owner'] = X['owner'].apply(lambda x: owner[x])"
      ],
      "metadata": {
        "id": "ytmqBtLqBesO"
      },
      "execution_count": null,
      "outputs": []
    },
    {
      "cell_type": "code",
      "source": [
        "# колонки fuel, seller_type, transmission закодируем методом one-hot-encoding\n",
        "X = pd.get_dummies(X, columns=['fuel', 'seller_type', 'transmission'], drop_first=True)"
      ],
      "metadata": {
        "id": "ebM-nCNjDCZH"
      },
      "execution_count": null,
      "outputs": []
    },
    {
      "cell_type": "code",
      "source": [
        "X.sample(3)"
      ],
      "metadata": {
        "colab": {
          "base_uri": "https://localhost:8080/",
          "height": 433
        },
        "id": "evYGAWTsO0u8",
        "outputId": "61019be0-ca64-4a4c-8c7e-f84e8451643c"
      },
      "execution_count": null,
      "outputs": [
        {
          "output_type": "execute_result",
          "data": {
            "text/plain": [
              "                                             name  year  km_driven  owner  \\\n",
              "745                Tata Indigo CS LX (TDI) BS III  2012     120000      2   \n",
              "41    Toyota Innova 2.5 G (Diesel) 7 Seater BS IV  2013      99000      1   \n",
              "4497         Chevrolet Optra Magnum 1.6 LT Petrol  2010      60000      2   \n",
              "\n",
              "      mileage  engine  max_power  seats  torque_1  torque_2  fuel_Diesel  \\\n",
              "745     19.09    1396       69.0      5     135.0      2500            1   \n",
              "41      12.99    2494      100.0      7     200.0      2400            1   \n",
              "4497    12.90    1598      102.5      5     148.0      4000            0   \n",
              "\n",
              "      fuel_LPG  fuel_Petrol  seller_type_Individual  \\\n",
              "745          0            0                       1   \n",
              "41           0            0                       0   \n",
              "4497         0            1                       1   \n",
              "\n",
              "      seller_type_Trustmark Dealer  transmission_Manual  \n",
              "745                              0                    1  \n",
              "41                               0                    1  \n",
              "4497                             0                    1  "
            ],
            "text/html": [
              "\n",
              "  <div id=\"df-bee35a4b-f10f-41c0-8016-8a2e6de69eb3\">\n",
              "    <div class=\"colab-df-container\">\n",
              "      <div>\n",
              "<style scoped>\n",
              "    .dataframe tbody tr th:only-of-type {\n",
              "        vertical-align: middle;\n",
              "    }\n",
              "\n",
              "    .dataframe tbody tr th {\n",
              "        vertical-align: top;\n",
              "    }\n",
              "\n",
              "    .dataframe thead th {\n",
              "        text-align: right;\n",
              "    }\n",
              "</style>\n",
              "<table border=\"1\" class=\"dataframe\">\n",
              "  <thead>\n",
              "    <tr style=\"text-align: right;\">\n",
              "      <th></th>\n",
              "      <th>name</th>\n",
              "      <th>year</th>\n",
              "      <th>km_driven</th>\n",
              "      <th>owner</th>\n",
              "      <th>mileage</th>\n",
              "      <th>engine</th>\n",
              "      <th>max_power</th>\n",
              "      <th>seats</th>\n",
              "      <th>torque_1</th>\n",
              "      <th>torque_2</th>\n",
              "      <th>fuel_Diesel</th>\n",
              "      <th>fuel_LPG</th>\n",
              "      <th>fuel_Petrol</th>\n",
              "      <th>seller_type_Individual</th>\n",
              "      <th>seller_type_Trustmark Dealer</th>\n",
              "      <th>transmission_Manual</th>\n",
              "    </tr>\n",
              "  </thead>\n",
              "  <tbody>\n",
              "    <tr>\n",
              "      <th>745</th>\n",
              "      <td>Tata Indigo CS LX (TDI) BS III</td>\n",
              "      <td>2012</td>\n",
              "      <td>120000</td>\n",
              "      <td>2</td>\n",
              "      <td>19.09</td>\n",
              "      <td>1396</td>\n",
              "      <td>69.0</td>\n",
              "      <td>5</td>\n",
              "      <td>135.0</td>\n",
              "      <td>2500</td>\n",
              "      <td>1</td>\n",
              "      <td>0</td>\n",
              "      <td>0</td>\n",
              "      <td>1</td>\n",
              "      <td>0</td>\n",
              "      <td>1</td>\n",
              "    </tr>\n",
              "    <tr>\n",
              "      <th>41</th>\n",
              "      <td>Toyota Innova 2.5 G (Diesel) 7 Seater BS IV</td>\n",
              "      <td>2013</td>\n",
              "      <td>99000</td>\n",
              "      <td>1</td>\n",
              "      <td>12.99</td>\n",
              "      <td>2494</td>\n",
              "      <td>100.0</td>\n",
              "      <td>7</td>\n",
              "      <td>200.0</td>\n",
              "      <td>2400</td>\n",
              "      <td>1</td>\n",
              "      <td>0</td>\n",
              "      <td>0</td>\n",
              "      <td>0</td>\n",
              "      <td>0</td>\n",
              "      <td>1</td>\n",
              "    </tr>\n",
              "    <tr>\n",
              "      <th>4497</th>\n",
              "      <td>Chevrolet Optra Magnum 1.6 LT Petrol</td>\n",
              "      <td>2010</td>\n",
              "      <td>60000</td>\n",
              "      <td>2</td>\n",
              "      <td>12.90</td>\n",
              "      <td>1598</td>\n",
              "      <td>102.5</td>\n",
              "      <td>5</td>\n",
              "      <td>148.0</td>\n",
              "      <td>4000</td>\n",
              "      <td>0</td>\n",
              "      <td>0</td>\n",
              "      <td>1</td>\n",
              "      <td>1</td>\n",
              "      <td>0</td>\n",
              "      <td>1</td>\n",
              "    </tr>\n",
              "  </tbody>\n",
              "</table>\n",
              "</div>\n",
              "      <button class=\"colab-df-convert\" onclick=\"convertToInteractive('df-bee35a4b-f10f-41c0-8016-8a2e6de69eb3')\"\n",
              "              title=\"Convert this dataframe to an interactive table.\"\n",
              "              style=\"display:none;\">\n",
              "        \n",
              "  <svg xmlns=\"http://www.w3.org/2000/svg\" height=\"24px\"viewBox=\"0 0 24 24\"\n",
              "       width=\"24px\">\n",
              "    <path d=\"M0 0h24v24H0V0z\" fill=\"none\"/>\n",
              "    <path d=\"M18.56 5.44l.94 2.06.94-2.06 2.06-.94-2.06-.94-.94-2.06-.94 2.06-2.06.94zm-11 1L8.5 8.5l.94-2.06 2.06-.94-2.06-.94L8.5 2.5l-.94 2.06-2.06.94zm10 10l.94 2.06.94-2.06 2.06-.94-2.06-.94-.94-2.06-.94 2.06-2.06.94z\"/><path d=\"M17.41 7.96l-1.37-1.37c-.4-.4-.92-.59-1.43-.59-.52 0-1.04.2-1.43.59L10.3 9.45l-7.72 7.72c-.78.78-.78 2.05 0 2.83L4 21.41c.39.39.9.59 1.41.59.51 0 1.02-.2 1.41-.59l7.78-7.78 2.81-2.81c.8-.78.8-2.07 0-2.86zM5.41 20L4 18.59l7.72-7.72 1.47 1.35L5.41 20z\"/>\n",
              "  </svg>\n",
              "      </button>\n",
              "      \n",
              "  <style>\n",
              "    .colab-df-container {\n",
              "      display:flex;\n",
              "      flex-wrap:wrap;\n",
              "      gap: 12px;\n",
              "    }\n",
              "\n",
              "    .colab-df-convert {\n",
              "      background-color: #E8F0FE;\n",
              "      border: none;\n",
              "      border-radius: 50%;\n",
              "      cursor: pointer;\n",
              "      display: none;\n",
              "      fill: #1967D2;\n",
              "      height: 32px;\n",
              "      padding: 0 0 0 0;\n",
              "      width: 32px;\n",
              "    }\n",
              "\n",
              "    .colab-df-convert:hover {\n",
              "      background-color: #E2EBFA;\n",
              "      box-shadow: 0px 1px 2px rgba(60, 64, 67, 0.3), 0px 1px 3px 1px rgba(60, 64, 67, 0.15);\n",
              "      fill: #174EA6;\n",
              "    }\n",
              "\n",
              "    [theme=dark] .colab-df-convert {\n",
              "      background-color: #3B4455;\n",
              "      fill: #D2E3FC;\n",
              "    }\n",
              "\n",
              "    [theme=dark] .colab-df-convert:hover {\n",
              "      background-color: #434B5C;\n",
              "      box-shadow: 0px 1px 3px 1px rgba(0, 0, 0, 0.15);\n",
              "      filter: drop-shadow(0px 1px 2px rgba(0, 0, 0, 0.3));\n",
              "      fill: #FFFFFF;\n",
              "    }\n",
              "  </style>\n",
              "\n",
              "      <script>\n",
              "        const buttonEl =\n",
              "          document.querySelector('#df-bee35a4b-f10f-41c0-8016-8a2e6de69eb3 button.colab-df-convert');\n",
              "        buttonEl.style.display =\n",
              "          google.colab.kernel.accessAllowed ? 'block' : 'none';\n",
              "\n",
              "        async function convertToInteractive(key) {\n",
              "          const element = document.querySelector('#df-bee35a4b-f10f-41c0-8016-8a2e6de69eb3');\n",
              "          const dataTable =\n",
              "            await google.colab.kernel.invokeFunction('convertToInteractive',\n",
              "                                                     [key], {});\n",
              "          if (!dataTable) return;\n",
              "\n",
              "          const docLinkHtml = 'Like what you see? Visit the ' +\n",
              "            '<a target=\"_blank\" href=https://colab.research.google.com/notebooks/data_table.ipynb>data table notebook</a>'\n",
              "            + ' to learn more about interactive tables.';\n",
              "          element.innerHTML = '';\n",
              "          dataTable['output_type'] = 'display_data';\n",
              "          await google.colab.output.renderOutput(dataTable, element);\n",
              "          const docLink = document.createElement('div');\n",
              "          docLink.innerHTML = docLinkHtml;\n",
              "          element.appendChild(docLink);\n",
              "        }\n",
              "      </script>\n",
              "    </div>\n",
              "  </div>\n",
              "  "
            ]
          },
          "metadata": {},
          "execution_count": 7
        }
      ]
    },
    {
      "cell_type": "code",
      "source": [
        "Xtrain, Xtest, ytrain, ytest = train_test_split(X, y_log, test_size=0.25, random_state=RANDOM_STATE)"
      ],
      "metadata": {
        "id": "NceF-Zm7BfkZ"
      },
      "execution_count": null,
      "outputs": []
    },
    {
      "cell_type": "markdown",
      "source": [
        "# Подбор модели"
      ],
      "metadata": {
        "id": "kq-pK-iIIHn_"
      }
    },
    {
      "cell_type": "code",
      "source": [
        "cat_cols = ['name']"
      ],
      "metadata": {
        "id": "X3vV1q_iIMvB"
      },
      "execution_count": null,
      "outputs": []
    },
    {
      "cell_type": "code",
      "source": [
        "p0 = Pipeline([\n",
        "    ('encoder_',TargetEncoder(cols=cat_cols)),\n",
        "    ('scaler_', StandardScaler()),\n",
        "    ('model_', LinearRegression())\n",
        "    ])\n",
        "\n",
        "p1 = Pipeline([\n",
        "    ('encoder_',TargetEncoder(cols=cat_cols, smoothing=1)),\n",
        "    ('scaler_', StandardScaler()),\n",
        "    ('model_', LinearRegression())\n",
        "    ])\n",
        "\n",
        "p2 = Pipeline([\n",
        "    ('encoder_',TargetEncoder(cols=cat_cols, smoothing=100)),\n",
        "    ('scaler_', StandardScaler()),\n",
        "    ('model_', LinearRegression())\n",
        "    ])\n",
        "\n",
        "p3 = Pipeline([\n",
        "    ('encoder_',TargetEncoder(cols=cat_cols, smoothing=1)),\n",
        "    ('scaler_', MinMaxScaler()),\n",
        "    ('model_', LinearRegression())\n",
        "    ])\n",
        "\n",
        "p4 = Pipeline([\n",
        "    ('encoder_',TargetEncoder(cols=cat_cols, smoothing=10)),\n",
        "    ('scaler_', MinMaxScaler()),\n",
        "    ('model_', LinearRegression())\n",
        "    ])\n",
        "\n",
        "p5 = Pipeline([\n",
        "    ('encoder_',TargetEncoder(cols=cat_cols, smoothing=100)),\n",
        "    ('scaler_', MinMaxScaler()),\n",
        "    ('model_', LinearRegression())\n",
        "    ])\n",
        "\n",
        "p6 = Pipeline([\n",
        "    ('encoder_',LeaveOneOutEncoder(cols=cat_cols)),\n",
        "    ('scaler_', StandardScaler()),\n",
        "    ('model_', LinearRegression())\n",
        "    ])\n",
        "\n",
        "p7 = Pipeline([\n",
        "    ('encoder_',LeaveOneOutEncoder(cols=cat_cols)),\n",
        "    ('scaler_', MinMaxScaler()),\n",
        "    ('model_', LinearRegression())\n",
        "    ])\n",
        "\n",
        "p8 = Pipeline([\n",
        "    ('encoder_',LeaveOneOutEncoder(cols=cat_cols)),\n",
        "    ('pf_', PolynomialFeatures(degree=2)),\n",
        "    ('scaler_', MinMaxScaler()),\n",
        "    ('model_', LinearRegression())\n",
        "    ])"
      ],
      "metadata": {
        "id": "RkvDXF52ISzW"
      },
      "execution_count": null,
      "outputs": []
    },
    {
      "cell_type": "code",
      "source": [
        "for i,p in enumerate([p0,p1,p2,p3,p4,p5,p6,p7,p8]):\n",
        "    p.fit(Xtrain, ytrain)\n",
        "    pred = p.predict(Xtest)\n",
        "    pred = np.expm1(pred)\n",
        "    test = np.expm1(ytest)\n",
        "    print('p' + str(i), r2_score(test, pred))"
      ],
      "metadata": {
        "colab": {
          "base_uri": "https://localhost:8080/"
        },
        "id": "P9qhoMg3IjJh",
        "outputId": "d7814e39-00e3-41be-ac28-f4034d2f6b5e"
      },
      "execution_count": null,
      "outputs": [
        {
          "output_type": "stream",
          "name": "stdout",
          "text": [
            "p0 0.8850877387662601\n",
            "p1 0.8852332385710323\n",
            "p2 0.8795513366763279\n",
            "p3 0.8852332385710329\n",
            "p4 0.8850877387662605\n",
            "p5 0.879551336676327\n",
            "p6 0.8922921776984953\n",
            "p7 0.892292177698497\n",
            "p8 0.9246038834267057\n"
          ]
        }
      ]
    },
    {
      "cell_type": "code",
      "source": [
        "p10 = Pipeline([\n",
        "    ('encoder_',TargetEncoder(cols=cat_cols)),\n",
        "    ('scaler_', StandardScaler()),\n",
        "    ('model_', Ridge())\n",
        "    ])\n",
        "\n",
        "p11 = Pipeline([\n",
        "    ('encoder_',TargetEncoder(cols=cat_cols, smoothing=1)),\n",
        "    ('scaler_', StandardScaler()),\n",
        "    ('model_', Ridge())\n",
        "    ])\n",
        "\n",
        "p12 = Pipeline([\n",
        "    ('encoder_',TargetEncoder(cols=cat_cols, smoothing=100)),\n",
        "    ('scaler_', StandardScaler()),\n",
        "    ('model_', Ridge())\n",
        "    ])\n",
        "\n",
        "p13 = Pipeline([\n",
        "    ('encoder_',TargetEncoder(cols=cat_cols, smoothing=1)),\n",
        "    ('scaler_', MinMaxScaler()),\n",
        "    ('model_', Ridge())\n",
        "    ])\n",
        "\n",
        "p14 = Pipeline([\n",
        "    ('encoder_',TargetEncoder(cols=cat_cols, smoothing=10)),\n",
        "    ('scaler_', MinMaxScaler()),\n",
        "    ('model_', Ridge())\n",
        "    ])\n",
        "\n",
        "p15 = Pipeline([\n",
        "    ('encoder_',TargetEncoder(cols=cat_cols, smoothing=100)),\n",
        "    ('scaler_', MinMaxScaler()),\n",
        "    ('model_', Ridge())\n",
        "    ])\n",
        "\n",
        "p16 = Pipeline([\n",
        "    ('encoder_',LeaveOneOutEncoder(cols=cat_cols)),\n",
        "    ('scaler_', StandardScaler()),\n",
        "    ('model_', Ridge())\n",
        "    ])\n",
        "\n",
        "p17 = Pipeline([\n",
        "    ('encoder_',LeaveOneOutEncoder(cols=cat_cols)),\n",
        "    ('scaler_', MinMaxScaler()),\n",
        "    ('model_', Ridge())\n",
        "    ])\n",
        "\n",
        "p18 = Pipeline([\n",
        "    ('encoder_',LeaveOneOutEncoder(cols=cat_cols)),\n",
        "    ('pf_', PolynomialFeatures(degree=2)),\n",
        "    ('scaler_', StandardScaler()),\n",
        "    ('model_', Ridge())\n",
        "    ])"
      ],
      "metadata": {
        "id": "bUu5K_P3KRuq"
      },
      "execution_count": null,
      "outputs": []
    },
    {
      "cell_type": "code",
      "source": [
        "for i,p in enumerate([p10,p11,p12,p13,p14,p15,p16,p17,p18]):\n",
        "    p.fit(Xtrain, ytrain)\n",
        "    pred = p.predict(Xtest)\n",
        "    pred = np.expm1(pred)\n",
        "    test = np.expm1(ytest)\n",
        "    print('p' + str(i+10), r2_score(test, pred))"
      ],
      "metadata": {
        "colab": {
          "base_uri": "https://localhost:8080/"
        },
        "id": "aWdO4LOtLG6Z",
        "outputId": "0009ef8b-1027-4c95-cfde-d93ab96107c0"
      },
      "execution_count": null,
      "outputs": [
        {
          "output_type": "stream",
          "name": "stdout",
          "text": [
            "p10 0.885095360133078\n",
            "p11 0.8852231586527526\n",
            "p12 0.8797806473883044\n",
            "p13 0.8836955729899518\n",
            "p14 0.8878577134447536\n",
            "p15 0.887268314018754\n",
            "p16 0.8922179127277438\n",
            "p17 0.889224165350222\n",
            "p18 0.9194517766034083\n"
          ]
        }
      ]
    },
    {
      "cell_type": "code",
      "source": [
        "p20 = Pipeline([\n",
        "    ('encoder_',TargetEncoder(cols=cat_cols)),\n",
        "    ('scaler_', StandardScaler()),\n",
        "    ('model_', SVR())\n",
        "    ])\n",
        "\n",
        "p21 = Pipeline([\n",
        "    ('encoder_',TargetEncoder(cols=cat_cols, smoothing=1)),\n",
        "    ('scaler_', StandardScaler()),\n",
        "    ('model_', SVR())\n",
        "    ])\n",
        "\n",
        "p22 = Pipeline([\n",
        "    ('encoder_',TargetEncoder(cols=cat_cols, smoothing=100)),\n",
        "    ('scaler_', StandardScaler()),\n",
        "    ('model_', SVR())\n",
        "    ])\n",
        "\n",
        "p23 = Pipeline([\n",
        "    ('encoder_',TargetEncoder(cols=cat_cols, smoothing=1)),\n",
        "    ('scaler_', MinMaxScaler()),\n",
        "    ('model_', SVR())\n",
        "    ])\n",
        "\n",
        "p24 = Pipeline([\n",
        "    ('encoder_',TargetEncoder(cols=cat_cols, smoothing=10)),\n",
        "    ('scaler_', MinMaxScaler()),\n",
        "    ('model_', SVR())\n",
        "    ])\n",
        "\n",
        "p25 = Pipeline([\n",
        "    ('encoder_',TargetEncoder(cols=cat_cols, smoothing=100)),\n",
        "    ('scaler_', MinMaxScaler()),\n",
        "    ('model_', SVR())\n",
        "    ])\n",
        "\n",
        "p26 = Pipeline([\n",
        "    ('encoder_',LeaveOneOutEncoder(cols=cat_cols)),\n",
        "    ('scaler_', StandardScaler()),\n",
        "    ('model_', SVR())\n",
        "    ])\n",
        "\n",
        "p27 = Pipeline([\n",
        "    ('encoder_',LeaveOneOutEncoder(cols=cat_cols)),\n",
        "    ('scaler_', MinMaxScaler()),\n",
        "    ('model_', SVR())\n",
        "    ])\n",
        "\n",
        "p28 = Pipeline([\n",
        "    ('encoder_',LeaveOneOutEncoder(cols=cat_cols)),\n",
        "    ('pf_', PolynomialFeatures(degree=2)),\n",
        "    ('scaler_', StandardScaler()),\n",
        "    ('model_', SVR())\n",
        "    ])"
      ],
      "metadata": {
        "id": "Fv9AG4stLcCW"
      },
      "execution_count": null,
      "outputs": []
    },
    {
      "cell_type": "code",
      "source": [
        "for i,p in enumerate([p20,p21,p22,p23,p24,p25,p26,p27,p28]):\n",
        "    p.fit(Xtrain, ytrain)\n",
        "    pred = p.predict(Xtest)\n",
        "    pred = np.expm1(pred)\n",
        "    test = np.expm1(ytest)\n",
        "    print('p' + str(i+20), r2_score(test, pred))"
      ],
      "metadata": {
        "colab": {
          "base_uri": "https://localhost:8080/"
        },
        "id": "u8JB-nfbOz4c",
        "outputId": "ae4d88c9-4cfe-448c-c481-5996f2e602ed"
      },
      "execution_count": null,
      "outputs": [
        {
          "output_type": "stream",
          "name": "stdout",
          "text": [
            "p20 0.9329773702295554\n",
            "p21 0.9421851702687488\n",
            "p22 0.9028121466847722\n",
            "p23 0.9281103158390008\n",
            "p24 0.9262788802360423\n",
            "p25 0.8982843440027111\n",
            "p26 0.943995943361664\n",
            "p27 0.925336824345091\n",
            "p28 0.9346871292065217\n"
          ]
        }
      ]
    },
    {
      "cell_type": "code",
      "source": [
        "p30 = Pipeline([\n",
        "    ('encoder_',TargetEncoder(cols=cat_cols)),\n",
        "    ('scaler_', StandardScaler()),\n",
        "    ('model_', KNeighborsRegressor())\n",
        "    ])\n",
        "\n",
        "p31 = Pipeline([\n",
        "    ('encoder_',TargetEncoder(cols=cat_cols, smoothing=1)),\n",
        "    ('scaler_', StandardScaler()),\n",
        "    ('model_', KNeighborsRegressor())\n",
        "    ])\n",
        "\n",
        "p32 = Pipeline([\n",
        "    ('encoder_',TargetEncoder(cols=cat_cols, smoothing=100)),\n",
        "    ('scaler_', StandardScaler()),\n",
        "    ('model_', KNeighborsRegressor())\n",
        "    ])\n",
        "\n",
        "p33 = Pipeline([\n",
        "    ('encoder_',TargetEncoder(cols=cat_cols, smoothing=1)),\n",
        "    ('scaler_', MinMaxScaler()),\n",
        "    ('model_', KNeighborsRegressor())\n",
        "    ])\n",
        "\n",
        "p34 = Pipeline([\n",
        "    ('encoder_',TargetEncoder(cols=cat_cols, smoothing=10)),\n",
        "    ('scaler_', MinMaxScaler()),\n",
        "    ('model_', KNeighborsRegressor())\n",
        "    ])\n",
        "\n",
        "p35 = Pipeline([\n",
        "    ('encoder_',TargetEncoder(cols=cat_cols, smoothing=100)),\n",
        "    ('scaler_', MinMaxScaler()),\n",
        "    ('model_', KNeighborsRegressor())\n",
        "    ])\n",
        "\n",
        "p36 = Pipeline([\n",
        "    ('encoder_',LeaveOneOutEncoder(cols=cat_cols)),\n",
        "    ('scaler_', StandardScaler()),\n",
        "    ('model_', KNeighborsRegressor())\n",
        "    ])\n",
        "\n",
        "p37 = Pipeline([\n",
        "    ('encoder_',LeaveOneOutEncoder(cols=cat_cols)),\n",
        "    ('scaler_', MinMaxScaler()),\n",
        "    ('model_', KNeighborsRegressor())\n",
        "    ])\n",
        "\n",
        "p38 = Pipeline([\n",
        "    ('encoder_',TargetEncoder(cols=cat_cols)),\n",
        "    ('pf_', PolynomialFeatures(degree=2)),\n",
        "    ('scaler_', StandardScaler()),\n",
        "    ('model_', KNeighborsRegressor())\n",
        "    ])"
      ],
      "metadata": {
        "id": "STnKl95FPY20"
      },
      "execution_count": null,
      "outputs": []
    },
    {
      "cell_type": "code",
      "source": [
        "for i,p in enumerate([p30,p31,p32,p33,p34,p35,p36,p37,p38]):\n",
        "    p.fit(Xtrain, ytrain)\n",
        "    pred = p.predict(Xtest)\n",
        "    pred = np.expm1(pred)\n",
        "    test = np.expm1(ytest)\n",
        "    print('p' + str(i+30), r2_score(test, pred))"
      ],
      "metadata": {
        "colab": {
          "base_uri": "https://localhost:8080/"
        },
        "id": "92B6s6VYPyb8",
        "outputId": "70356e4d-4a3a-44f1-f906-2363a6fcc35c"
      },
      "execution_count": null,
      "outputs": [
        {
          "output_type": "stream",
          "name": "stdout",
          "text": [
            "p30 0.9278698715845578\n",
            "p31 0.9270174343166939\n",
            "p32 0.9317957798507289\n",
            "p33 0.9250149323441588\n",
            "p34 0.9254165673683419\n",
            "p35 0.9234739739097139\n",
            "p36 0.9148460491645939\n",
            "p37 0.9150650107400459\n",
            "p38 0.9208314931207646\n"
          ]
        }
      ]
    },
    {
      "cell_type": "code",
      "source": [
        "p40 = Pipeline([\n",
        "    ('encoder_',TargetEncoder(cols=cat_cols)),\n",
        "    ('scaler_', StandardScaler()),\n",
        "    ('model_', RandomForestRegressor())\n",
        "    ])\n",
        "\n",
        "p41 = Pipeline([\n",
        "    ('encoder_',TargetEncoder(cols=cat_cols, smoothing=1)),\n",
        "    ('scaler_', StandardScaler()),\n",
        "    ('model_', RandomForestRegressor())\n",
        "    ])\n",
        "\n",
        "p42 = Pipeline([\n",
        "    ('encoder_',TargetEncoder(cols=cat_cols, smoothing=100)),\n",
        "    ('scaler_', StandardScaler()),\n",
        "    ('model_', RandomForestRegressor())\n",
        "    ])\n",
        "\n",
        "p43 = Pipeline([\n",
        "    ('encoder_',TargetEncoder(cols=cat_cols, smoothing=1)),\n",
        "    ('scaler_', MinMaxScaler()),\n",
        "    ('model_', RandomForestRegressor())\n",
        "    ])\n",
        "\n",
        "p44 = Pipeline([\n",
        "    ('encoder_',TargetEncoder(cols=cat_cols, smoothing=10)),\n",
        "    ('scaler_', MinMaxScaler()),\n",
        "    ('model_', RandomForestRegressor())\n",
        "    ])\n",
        "\n",
        "p45 = Pipeline([\n",
        "    ('encoder_',TargetEncoder(cols=cat_cols, smoothing=100)),\n",
        "    ('scaler_', MinMaxScaler()),\n",
        "    ('model_', RandomForestRegressor())\n",
        "    ])\n",
        "\n",
        "p46 = Pipeline([\n",
        "    ('encoder_',LeaveOneOutEncoder(cols=cat_cols)),\n",
        "    ('scaler_', StandardScaler()),\n",
        "    ('model_', RandomForestRegressor())\n",
        "    ])\n",
        "\n",
        "p47 = Pipeline([\n",
        "    ('encoder_',LeaveOneOutEncoder(cols=cat_cols)),\n",
        "    ('scaler_', MinMaxScaler()),\n",
        "    ('model_', RandomForestRegressor())\n",
        "    ])\n",
        "\n",
        "p48 = Pipeline([\n",
        "    ('encoder_',TargetEncoder(cols=cat_cols, smoothing=1)),\n",
        "    ('pf_', PolynomialFeatures(degree=2)),\n",
        "    ('scaler_', MinMaxScaler()),\n",
        "    ('model_', RandomForestRegressor())\n",
        "    ])"
      ],
      "metadata": {
        "id": "j5N_p9L2QrxY"
      },
      "execution_count": null,
      "outputs": []
    },
    {
      "cell_type": "code",
      "source": [
        "for i,p in enumerate([p40,p41,p42,p43,p44,p45,p46,p47,p48]):\n",
        "    p.fit(Xtrain, ytrain)\n",
        "    pred = p.predict(Xtest)\n",
        "    pred = np.expm1(pred)\n",
        "    test = np.expm1(ytest)\n",
        "    print('p' + str(i+40), r2_score(test, pred))"
      ],
      "metadata": {
        "colab": {
          "base_uri": "https://localhost:8080/"
        },
        "id": "y8PHzDoXREWq",
        "outputId": "b7e571d8-65f5-4c47-a12f-aa7fdc855d22"
      },
      "execution_count": null,
      "outputs": [
        {
          "output_type": "stream",
          "name": "stdout",
          "text": [
            "p40 0.8914411105599639\n",
            "p41 0.9731492332905674\n",
            "p42 0.8882997420786055\n",
            "p43 0.9740202250805873\n",
            "p44 0.8903505399062325\n",
            "p45 0.8886069333516519\n",
            "p46 0.9627179231241763\n",
            "p47 0.9621979595814528\n",
            "p48 0.9706711044685429\n"
          ]
        }
      ]
    },
    {
      "cell_type": "code",
      "source": [
        "p50 = Pipeline([\n",
        "    ('encoder_',TargetEncoder(cols=cat_cols)),\n",
        "    ('scaler_', StandardScaler()),\n",
        "    ('model_', GradientBoostingRegressor())\n",
        "    ])\n",
        "\n",
        "p51 = Pipeline([\n",
        "    ('encoder_',TargetEncoder(cols=cat_cols, smoothing=1)),\n",
        "    ('scaler_', StandardScaler()),\n",
        "    ('model_', GradientBoostingRegressor())\n",
        "    ])\n",
        "\n",
        "p52 = Pipeline([\n",
        "    ('encoder_',TargetEncoder(cols=cat_cols, smoothing=100)),\n",
        "    ('scaler_', StandardScaler()),\n",
        "    ('model_', GradientBoostingRegressor())\n",
        "    ])\n",
        "\n",
        "p53 = Pipeline([\n",
        "    ('encoder_',TargetEncoder(cols=cat_cols, smoothing=1)),\n",
        "    ('scaler_', MinMaxScaler()),\n",
        "    ('model_', GradientBoostingRegressor())\n",
        "    ])\n",
        "\n",
        "p54 = Pipeline([\n",
        "    ('encoder_',TargetEncoder(cols=cat_cols, smoothing=10)),\n",
        "    ('scaler_', MinMaxScaler()),\n",
        "    ('model_', GradientBoostingRegressor())\n",
        "    ])\n",
        "\n",
        "p55 = Pipeline([\n",
        "    ('encoder_',TargetEncoder(cols=cat_cols, smoothing=100)),\n",
        "    ('scaler_', MinMaxScaler()),\n",
        "    ('model_', GradientBoostingRegressor())\n",
        "    ])\n",
        "\n",
        "p56 = Pipeline([\n",
        "    ('encoder_',LeaveOneOutEncoder(cols=cat_cols)),\n",
        "    ('scaler_', StandardScaler()),\n",
        "    ('model_', GradientBoostingRegressor())\n",
        "    ])\n",
        "\n",
        "p57 = Pipeline([\n",
        "    ('encoder_',LeaveOneOutEncoder(cols=cat_cols)),\n",
        "    ('scaler_', MinMaxScaler()),\n",
        "    ('model_', GradientBoostingRegressor())\n",
        "    ])\n"
      ],
      "metadata": {
        "id": "OhszMHb1RgRC"
      },
      "execution_count": null,
      "outputs": []
    },
    {
      "cell_type": "code",
      "source": [
        "for i,p in enumerate([p50,p51,p52,p53,p54,p55,p56,p57]):\n",
        "    p.fit(Xtrain, ytrain)\n",
        "    pred = p.predict(Xtest)\n",
        "    pred = np.expm1(pred)\n",
        "    test = np.expm1(ytest)\n",
        "    print('p' + str(i+50), r2_score(test, pred))"
      ],
      "metadata": {
        "colab": {
          "base_uri": "https://localhost:8080/"
        },
        "id": "dcbiF2BpR9ut",
        "outputId": "cbabdc28-8a58-45e3-cfb0-7c64e8a5abae"
      },
      "execution_count": null,
      "outputs": [
        {
          "output_type": "stream",
          "name": "stdout",
          "text": [
            "p50 0.8951817542160954\n",
            "p51 0.9528691318941845\n",
            "p52 0.8894216153609452\n",
            "p53 0.951943035906946\n",
            "p54 0.8954192928043735\n",
            "p55 0.8894394859867611\n",
            "p56 0.9496288759132577\n",
            "p57 0.9496467776537714\n"
          ]
        }
      ]
    },
    {
      "cell_type": "markdown",
      "source": [
        "Сравним лучшие рузультаты:\n",
        "\n",
        "* RandomForestRegressor: 0.9740202250805873\n",
        "* GradientBoostingRegressor: 0.9528691318941845\n",
        "* SVR: 0.943995943361664\n",
        "* KNeighborsRegressor: 0.9317957798507289\n",
        "* LinearRegression: 0.9246038834267057\n",
        "* Ridge: 0.9194517766034083\n",
        "\n",
        "Лучшие результаты у RandomForestRegressor, GradientBoostingRegressor и SVR. К этим моделям будем подбирать оптимальные гиперпараметры"
      ],
      "metadata": {
        "id": "U6aNkMRJ6DzH"
      }
    },
    {
      "cell_type": "markdown",
      "source": [
        "# Улучшение модели"
      ],
      "metadata": {
        "id": "Tfoc98FiT-JH"
      }
    },
    {
      "cell_type": "code",
      "source": [
        "p_svr = Pipeline([\n",
        "    ('encoder_',LeaveOneOutEncoder(cols=cat_cols)),\n",
        "    ('scaler_', StandardScaler()),\n",
        "    ('svr', SVR())\n",
        "    ])"
      ],
      "metadata": {
        "id": "Ku6N7hDifhKM"
      },
      "execution_count": null,
      "outputs": []
    },
    {
      "cell_type": "code",
      "source": [
        "params = {'svr__kernel': ['linear', 'poly', 'rbf', 'sigmoid', 'precomputed'], 'svr__C': [0.001, 0.01, 0.1, 1, 10, 100, 1000]}\n",
        "\n",
        "gs = GridSearchCV(p_svr, params, cv=3, scoring='r2', verbose=0, n_jobs=-1)\n",
        "\n",
        "gs.fit(Xtrain, ytrain)\n",
        "\n",
        "print(gs.best_score_)\n",
        "print(gs.best_params_)"
      ],
      "metadata": {
        "colab": {
          "base_uri": "https://localhost:8080/"
        },
        "id": "gDYo5_dxft_2",
        "outputId": "6a36fb31-2a76-401a-c8fa-8984044eee9d"
      },
      "execution_count": null,
      "outputs": [
        {
          "output_type": "stream",
          "name": "stderr",
          "text": [
            "/usr/local/lib/python3.10/dist-packages/sklearn/model_selection/_validation.py:378: FitFailedWarning: \n",
            "21 fits failed out of a total of 105.\n",
            "The score on these train-test partitions for these parameters will be set to nan.\n",
            "If these failures are not expected, you can try to debug them by setting error_score='raise'.\n",
            "\n",
            "Below are more details about the failures:\n",
            "--------------------------------------------------------------------------------\n",
            "21 fits failed with the following error:\n",
            "Traceback (most recent call last):\n",
            "  File \"/usr/local/lib/python3.10/dist-packages/sklearn/model_selection/_validation.py\", line 686, in _fit_and_score\n",
            "    estimator.fit(X_train, y_train, **fit_params)\n",
            "  File \"/usr/local/lib/python3.10/dist-packages/sklearn/pipeline.py\", line 405, in fit\n",
            "    self._final_estimator.fit(Xt, y, **fit_params_last_step)\n",
            "  File \"/usr/local/lib/python3.10/dist-packages/sklearn/svm/_base.py\", line 217, in fit\n",
            "    raise ValueError(\n",
            "ValueError: Precomputed matrix must be a square matrix. Input is a 3384x16 matrix.\n",
            "\n",
            "  warnings.warn(some_fits_failed_message, FitFailedWarning)\n",
            "/usr/local/lib/python3.10/dist-packages/sklearn/model_selection/_search.py:952: UserWarning: One or more of the test scores are non-finite: [ 8.72542500e-01  5.35213845e-01  2.57618158e-01  5.95403484e-01\n",
            "             nan  8.77175557e-01  7.59920848e-01  7.18755878e-01\n",
            "  6.94127472e-01             nan  8.77486250e-01  8.69046602e-01\n",
            "  8.77337080e-01 -2.31562568e+01             nan  8.77459277e-01\n",
            "  8.92743420e-01  9.13353102e-01 -2.33597976e+03             nan\n",
            "  8.77430653e-01  8.80026615e-01  9.16337442e-01 -2.26896171e+05\n",
            "             nan  8.77402999e-01  8.13710534e-01  8.95189777e-01\n",
            " -2.32763967e+07             nan  8.77376050e-01  7.05519750e-01\n",
            "  8.31939454e-01 -2.26724562e+09             nan]\n",
            "  warnings.warn(\n"
          ]
        },
        {
          "output_type": "stream",
          "name": "stdout",
          "text": [
            "0.916337441801371\n",
            "{'svr__C': 10, 'svr__kernel': 'rbf'}\n"
          ]
        }
      ]
    },
    {
      "cell_type": "code",
      "source": [
        "p_svr_best = Pipeline([\n",
        "    ('encoder_',LeaveOneOutEncoder(cols=cat_cols)),\n",
        "    ('scaler_', StandardScaler()),\n",
        "    ('svr', SVR(C=10, kernel='rbf'))\n",
        "    ])"
      ],
      "metadata": {
        "id": "MSctPG-ehRFI"
      },
      "execution_count": null,
      "outputs": []
    },
    {
      "cell_type": "code",
      "source": [
        "p_svr_best.fit(Xtrain, ytrain)\n",
        "pred = p_svr_best.predict(Xtest)\n",
        "pred = np.expm1(pred)\n",
        "test = np.expm1(ytest)\n",
        "print(r2_score(test, pred))"
      ],
      "metadata": {
        "colab": {
          "base_uri": "https://localhost:8080/"
        },
        "id": "J9TcolW8hZ9N",
        "outputId": "2680d4ab-7b3d-4701-da25-3b73fd7bbec7"
      },
      "execution_count": null,
      "outputs": [
        {
          "output_type": "stream",
          "name": "stdout",
          "text": [
            "0.9594770517808918\n"
          ]
        }
      ]
    },
    {
      "cell_type": "markdown",
      "source": [
        "Подбор гиперпараметров для SVM позволил повысить качество на 0,0155"
      ],
      "metadata": {
        "id": "OWVWeowU8F_L"
      }
    },
    {
      "cell_type": "code",
      "source": [
        "!pip install optuna -q"
      ],
      "metadata": {
        "colab": {
          "base_uri": "https://localhost:8080/"
        },
        "id": "6g_YjasGhCIg",
        "outputId": "17ef690d-b894-4315-bd63-6456ad128e8f"
      },
      "execution_count": null,
      "outputs": [
        {
          "output_type": "stream",
          "name": "stdout",
          "text": [
            "\u001b[2K     \u001b[90m━━━━━━━━━━━━━━━━━━━━━━━━━━━━━━━━━━━━━━\u001b[0m \u001b[32m390.6/390.6 kB\u001b[0m \u001b[31m10.0 MB/s\u001b[0m eta \u001b[36m0:00:00\u001b[0m\n",
            "\u001b[2K     \u001b[90m━━━━━━━━━━━━━━━━━━━━━━━━━━━━━━━━━━━━━━\u001b[0m \u001b[32m224.5/224.5 kB\u001b[0m \u001b[31m17.9 MB/s\u001b[0m eta \u001b[36m0:00:00\u001b[0m\n",
            "\u001b[2K     \u001b[90m━━━━━━━━━━━━━━━━━━━━━━━━━━━━━━━━━━━━━━━━\u001b[0m \u001b[32m78.7/78.7 kB\u001b[0m \u001b[31m7.8 MB/s\u001b[0m eta \u001b[36m0:00:00\u001b[0m\n",
            "\u001b[?25h"
          ]
        }
      ]
    },
    {
      "cell_type": "code",
      "source": [
        "import optuna"
      ],
      "metadata": {
        "id": "2gwgqsZdhLcp"
      },
      "execution_count": null,
      "outputs": []
    },
    {
      "cell_type": "code",
      "source": [
        "def objective_gb(trial):\n",
        "    max_depth = trial.suggest_int(\"max_depth\", 2, 20)\n",
        "    criterion = trial.suggest_categorical(\"criterion\", ['squared_error', 'absolute_error', 'friedman_mse', 'poisson'])\n",
        "    n_estimators = trial.suggest_int(\"n_estimators\", 20, 1000)\n",
        "\n",
        "    p_rf = Pipeline([\n",
        "        ('encoder_',TargetEncoder(cols=cat_cols, smoothing=1)),\n",
        "        ('scaler_', MinMaxScaler()),\n",
        "        ('rf', RandomForestRegressor(max_depth=max_depth, criterion=criterion, n_estimators=n_estimators, random_state=RANDOM_STATE))\n",
        "        ])\n",
        "\n",
        "    score = cross_val_score(p_rf, Xtrain, ytrain, cv=3, scoring='r2', n_jobs=-1).mean()\n",
        "    return score\n",
        "\n",
        "study = optuna.create_study(direction=\"maximize\")\n",
        "study.optimize(objective_gb, n_trials=50)"
      ],
      "metadata": {
        "colab": {
          "base_uri": "https://localhost:8080/"
        },
        "id": "6OSqNf-ZUC19",
        "outputId": "47323c84-29bc-4592-cd7d-a8727b2c75d7"
      },
      "execution_count": null,
      "outputs": [
        {
          "output_type": "stream",
          "name": "stderr",
          "text": [
            "[I 2023-06-28 18:54:17,773] A new study created in memory with name: no-name-74e1bf3f-e035-423a-bcb6-de6319c7c52a\n",
            "[I 2023-06-28 18:54:47,292] Trial 0 finished with value: 0.934622070949377 and parameters: {'max_depth': 13, 'criterion': 'squared_error', 'n_estimators': 784}. Best is trial 0 with value: 0.934622070949377.\n",
            "[I 2023-06-28 18:54:55,738] Trial 1 finished with value: 0.9330215836372155 and parameters: {'max_depth': 11, 'criterion': 'friedman_mse', 'n_estimators': 286}. Best is trial 0 with value: 0.934622070949377.\n",
            "[I 2023-06-28 18:54:58,927] Trial 2 finished with value: 0.8860656074804765 and parameters: {'max_depth': 5, 'criterion': 'squared_error', 'n_estimators': 214}. Best is trial 0 with value: 0.934622070949377.\n",
            "[I 2023-06-28 18:58:00,826] Trial 3 finished with value: 0.9327917326923115 and parameters: {'max_depth': 11, 'criterion': 'absolute_error', 'n_estimators': 322}. Best is trial 0 with value: 0.934622070949377.\n",
            "[I 2023-06-28 18:58:01,752] Trial 4 finished with value: 0.9276812139178107 and parameters: {'max_depth': 9, 'criterion': 'friedman_mse', 'n_estimators': 37}. Best is trial 0 with value: 0.934622070949377.\n",
            "[I 2023-06-28 18:58:34,565] Trial 5 finished with value: 0.9347350467083885 and parameters: {'max_depth': 15, 'criterion': 'poisson', 'n_estimators': 799}. Best is trial 5 with value: 0.9347350467083885.\n",
            "[I 2023-06-28 19:06:34,858] Trial 6 finished with value: 0.9309340398291432 and parameters: {'max_depth': 10, 'criterion': 'absolute_error', 'n_estimators': 886}. Best is trial 5 with value: 0.9347350467083885.\n",
            "[I 2023-06-28 19:06:46,267] Trial 7 finished with value: 0.9342765780324198 and parameters: {'max_depth': 17, 'criterion': 'friedman_mse', 'n_estimators': 282}. Best is trial 5 with value: 0.9347350467083885.\n",
            "[I 2023-06-28 19:06:47,040] Trial 8 finished with value: 0.9310500205835734 and parameters: {'max_depth': 11, 'criterion': 'friedman_mse', 'n_estimators': 25}. Best is trial 5 with value: 0.9347350467083885.\n",
            "[I 2023-06-28 19:10:49,224] Trial 9 finished with value: 0.935120014294638 and parameters: {'max_depth': 20, 'criterion': 'absolute_error', 'n_estimators': 400}. Best is trial 9 with value: 0.935120014294638.\n",
            "[I 2023-06-28 19:16:33,164] Trial 10 finished with value: 0.9352631368762863 and parameters: {'max_depth': 20, 'criterion': 'absolute_error', 'n_estimators': 569}. Best is trial 10 with value: 0.9352631368762863.\n",
            "[I 2023-06-28 19:22:11,738] Trial 11 finished with value: 0.9352740818360069 and parameters: {'max_depth': 20, 'criterion': 'absolute_error', 'n_estimators': 558}. Best is trial 11 with value: 0.9352740818360069.\n",
            "[I 2023-06-28 19:28:20,102] Trial 12 finished with value: 0.9352855083207826 and parameters: {'max_depth': 20, 'criterion': 'absolute_error', 'n_estimators': 608}. Best is trial 12 with value: 0.9352855083207826.\n",
            "[I 2023-06-28 19:34:20,580] Trial 13 finished with value: 0.9353390136112357 and parameters: {'max_depth': 17, 'criterion': 'absolute_error', 'n_estimators': 598}. Best is trial 13 with value: 0.9353390136112357.\n",
            "[I 2023-06-28 19:34:48,233] Trial 14 finished with value: 0.9346165691031779 and parameters: {'max_depth': 17, 'criterion': 'poisson', 'n_estimators': 642}. Best is trial 13 with value: 0.9353390136112357.\n",
            "[I 2023-06-28 19:44:48,183] Trial 15 finished with value: 0.9353941536634919 and parameters: {'max_depth': 17, 'criterion': 'absolute_error', 'n_estimators': 998}. Best is trial 15 with value: 0.9353941536634919.\n",
            "[I 2023-06-28 19:54:31,969] Trial 16 finished with value: 0.9352971764447343 and parameters: {'max_depth': 16, 'criterion': 'absolute_error', 'n_estimators': 982}. Best is trial 15 with value: 0.9353941536634919.\n",
            "[I 2023-06-28 20:02:12,959] Trial 17 finished with value: 0.9349449828830516 and parameters: {'max_depth': 14, 'criterion': 'absolute_error', 'n_estimators': 781}. Best is trial 15 with value: 0.9353941536634919.\n",
            "[I 2023-06-28 20:02:23,082] Trial 18 finished with value: 0.687605429047817 and parameters: {'max_depth': 2, 'criterion': 'poisson', 'n_estimators': 991}. Best is trial 15 with value: 0.9353941536634919.\n",
            "[I 2023-06-28 20:02:40,662] Trial 19 finished with value: 0.9346563422946111 and parameters: {'max_depth': 18, 'criterion': 'squared_error', 'n_estimators': 465}. Best is trial 15 with value: 0.9353941536634919.\n",
            "[I 2023-06-28 20:08:29,584] Trial 20 finished with value: 0.9229933308169497 and parameters: {'max_depth': 8, 'criterion': 'absolute_error', 'n_estimators': 683}. Best is trial 15 with value: 0.9353941536634919.\n",
            "[I 2023-06-28 20:18:12,165] Trial 21 finished with value: 0.9352982152737918 and parameters: {'max_depth': 16, 'criterion': 'absolute_error', 'n_estimators': 981}. Best is trial 15 with value: 0.9353941536634919.\n",
            "[I 2023-06-28 20:26:59,579] Trial 22 finished with value: 0.9352914707688068 and parameters: {'max_depth': 18, 'criterion': 'absolute_error', 'n_estimators': 878}. Best is trial 15 with value: 0.9353941536634919.\n",
            "[I 2023-06-28 20:35:47,210] Trial 23 finished with value: 0.9346245098159286 and parameters: {'max_depth': 13, 'criterion': 'absolute_error', 'n_estimators': 895}. Best is trial 15 with value: 0.9353941536634919.\n",
            "[I 2023-06-28 20:42:49,767] Trial 24 finished with value: 0.9352613597193474 and parameters: {'max_depth': 15, 'criterion': 'absolute_error', 'n_estimators': 716}. Best is trial 15 with value: 0.9353941536634919.\n",
            "[I 2023-06-28 20:52:09,232] Trial 25 finished with value: 0.9353044328417911 and parameters: {'max_depth': 18, 'criterion': 'absolute_error', 'n_estimators': 932}. Best is trial 15 with value: 0.9353941536634919.\n",
            "[I 2023-06-28 21:01:09,958] Trial 26 finished with value: 0.9353003767336524 and parameters: {'max_depth': 18, 'criterion': 'absolute_error', 'n_estimators': 901}. Best is trial 15 with value: 0.9353941536634919.\n",
            "[I 2023-06-28 21:01:40,529] Trial 27 finished with value: 0.9345737741144616 and parameters: {'max_depth': 13, 'criterion': 'poisson', 'n_estimators': 820}. Best is trial 15 with value: 0.9353941536634919.\n",
            "[I 2023-06-28 21:01:58,804] Trial 28 finished with value: 0.9346264707154806 and parameters: {'max_depth': 17, 'criterion': 'squared_error', 'n_estimators': 490}. Best is trial 15 with value: 0.9353941536634919.\n",
            "[I 2023-06-28 21:02:25,097] Trial 29 finished with value: 0.9348313743180697 and parameters: {'max_depth': 14, 'criterion': 'squared_error', 'n_estimators': 752}. Best is trial 15 with value: 0.9353941536634919.\n",
            "[I 2023-06-28 21:10:51,233] Trial 30 finished with value: 0.9352424791079947 and parameters: {'max_depth': 19, 'criterion': 'absolute_error', 'n_estimators': 840}. Best is trial 15 with value: 0.9353941536634919.\n",
            "[I 2023-06-28 21:19:57,531] Trial 31 finished with value: 0.9352932560730404 and parameters: {'max_depth': 18, 'criterion': 'absolute_error', 'n_estimators': 910}. Best is trial 15 with value: 0.9353941536634919.\n",
            "[I 2023-06-28 21:29:11,095] Trial 32 finished with value: 0.9353111815229888 and parameters: {'max_depth': 16, 'criterion': 'absolute_error', 'n_estimators': 930}. Best is trial 15 with value: 0.9353941536634919.\n",
            "[I 2023-06-28 21:38:24,525] Trial 33 finished with value: 0.9353093922271372 and parameters: {'max_depth': 16, 'criterion': 'absolute_error', 'n_estimators': 931}. Best is trial 15 with value: 0.9353941536634919.\n",
            "[I 2023-06-28 21:40:07,857] Trial 34 finished with value: 0.9349052977957671 and parameters: {'max_depth': 15, 'criterion': 'absolute_error', 'n_estimators': 174}. Best is trial 15 with value: 0.9353941536634919.\n",
            "[I 2023-06-28 21:40:31,165] Trial 35 finished with value: 0.934147687506556 and parameters: {'max_depth': 12, 'criterion': 'friedman_mse', 'n_estimators': 728}. Best is trial 15 with value: 0.9353941536634919.\n",
            "[I 2023-06-28 21:49:48,953] Trial 36 finished with value: 0.9353131492745949 and parameters: {'max_depth': 16, 'criterion': 'absolute_error', 'n_estimators': 940}. Best is trial 15 with value: 0.9353941536634919.\n",
            "[I 2023-06-28 21:50:07,120] Trial 37 finished with value: 0.9165999476410001 and parameters: {'max_depth': 7, 'criterion': 'squared_error', 'n_estimators': 823}. Best is trial 15 with value: 0.9353941536634919.\n",
            "[I 2023-06-28 21:59:48,873] Trial 38 finished with value: 0.9349525776407219 and parameters: {'max_depth': 14, 'criterion': 'absolute_error', 'n_estimators': 996}. Best is trial 15 with value: 0.9353941536634919.\n",
            "[I 2023-06-28 21:59:53,703] Trial 39 finished with value: 0.933769592733228 and parameters: {'max_depth': 12, 'criterion': 'friedman_mse', 'n_estimators': 149}. Best is trial 15 with value: 0.9353941536634919.\n",
            "[I 2023-06-28 22:00:09,751] Trial 40 finished with value: 0.9345509393102431 and parameters: {'max_depth': 15, 'criterion': 'poisson', 'n_estimators': 392}. Best is trial 15 with value: 0.9353941536634919.\n",
            "[I 2023-06-28 22:09:32,775] Trial 41 finished with value: 0.9353040075723958 and parameters: {'max_depth': 16, 'criterion': 'absolute_error', 'n_estimators': 944}. Best is trial 15 with value: 0.9353941536634919.\n",
            "[I 2023-06-28 22:17:56,645] Trial 42 finished with value: 0.9353046833730251 and parameters: {'max_depth': 16, 'criterion': 'absolute_error', 'n_estimators': 847}. Best is trial 15 with value: 0.9353941536634919.\n",
            "[I 2023-06-28 22:27:19,329] Trial 43 finished with value: 0.9352732572008776 and parameters: {'max_depth': 19, 'criterion': 'absolute_error', 'n_estimators': 934}. Best is trial 15 with value: 0.9353941536634919.\n",
            "[I 2023-06-28 22:35:01,323] Trial 44 finished with value: 0.9353738448560142 and parameters: {'max_depth': 17, 'criterion': 'absolute_error', 'n_estimators': 771}. Best is trial 15 with value: 0.9353941536634919.\n",
            "[I 2023-06-28 22:42:51,675] Trial 45 finished with value: 0.9352375580675001 and parameters: {'max_depth': 19, 'criterion': 'absolute_error', 'n_estimators': 777}. Best is trial 15 with value: 0.9353941536634919.\n",
            "[I 2023-06-28 22:43:17,995] Trial 46 finished with value: 0.9345337446575774 and parameters: {'max_depth': 17, 'criterion': 'friedman_mse', 'n_estimators': 675}. Best is trial 15 with value: 0.9353941536634919.\n",
            "[I 2023-06-28 22:48:54,415] Trial 47 finished with value: 0.9353278847444737 and parameters: {'max_depth': 17, 'criterion': 'absolute_error', 'n_estimators': 558}. Best is trial 15 with value: 0.9353941536634919.\n",
            "[I 2023-06-28 22:54:45,160] Trial 48 finished with value: 0.935332708227552 and parameters: {'max_depth': 17, 'criterion': 'absolute_error', 'n_estimators': 583}. Best is trial 15 with value: 0.9353941536634919.\n",
            "[I 2023-06-28 23:00:17,433] Trial 49 finished with value: 0.9351521876263508 and parameters: {'max_depth': 19, 'criterion': 'absolute_error', 'n_estimators': 548}. Best is trial 15 with value: 0.9353941536634919.\n"
          ]
        }
      ]
    },
    {
      "cell_type": "code",
      "source": [
        "study.best_params"
      ],
      "metadata": {
        "id": "eEu4gfIdXiB9",
        "colab": {
          "base_uri": "https://localhost:8080/"
        },
        "outputId": "84d3c14b-650c-46d9-fdc5-d10009c39f36"
      },
      "execution_count": null,
      "outputs": [
        {
          "output_type": "execute_result",
          "data": {
            "text/plain": [
              "{'max_depth': 17, 'criterion': 'absolute_error', 'n_estimators': 998}"
            ]
          },
          "metadata": {},
          "execution_count": 37
        }
      ]
    },
    {
      "cell_type": "code",
      "source": [
        "p_rf_best = Pipeline([\n",
        "    ('encoder_',TargetEncoder(cols=cat_cols, smoothing=1)),\n",
        "    ('scaler_', MinMaxScaler()),\n",
        "    ('rf', RandomForestRegressor(max_depth=17, criterion='absolute_error', n_estimators=998, random_state=RANDOM_STATE))\n",
        "    ])"
      ],
      "metadata": {
        "id": "A2MAJCNn316b"
      },
      "execution_count": null,
      "outputs": []
    },
    {
      "cell_type": "code",
      "source": [
        "p_rf_best.fit(Xtrain, ytrain)\n",
        "pred = p_rf_best.predict(Xtest)\n",
        "pred = np.expm1(pred)\n",
        "test = np.expm1(ytest)\n",
        "print(r2_score(test, pred))"
      ],
      "metadata": {
        "id": "RPuvQEwg3-7q",
        "colab": {
          "base_uri": "https://localhost:8080/"
        },
        "outputId": "38d968a4-705e-465a-acdb-795f0fb6db31"
      },
      "execution_count": null,
      "outputs": [
        {
          "output_type": "stream",
          "name": "stdout",
          "text": [
            "0.9748775572278443\n"
          ]
        }
      ]
    },
    {
      "cell_type": "markdown",
      "source": [
        "Подбор гиперпараметров для RandomForestRegressor повысил метрику R^2 всего лишь на 0,0009"
      ],
      "metadata": {
        "id": "HnfoC6Ql-ic8"
      }
    },
    {
      "cell_type": "code",
      "source": [
        "def objective_gb(trial):\n",
        "    max_depth = trial.suggest_int(\"max_depth\", 2, 20)\n",
        "    n_estimators = trial.suggest_int(\"n_estimators\", 20, 1000)\n",
        "\n",
        "    p_gb = Pipeline([\n",
        "        ('encoder_',TargetEncoder(cols=cat_cols, smoothing=1)),\n",
        "        ('scaler_', StandardScaler()),\n",
        "        ('gb', GradientBoostingRegressor(max_depth=max_depth, n_estimators=n_estimators))\n",
        "        ])\n",
        "\n",
        "    score = cross_val_score(p_gb, Xtrain, ytrain, cv=3, scoring='r2', n_jobs=-1).mean()\n",
        "    return score\n",
        "\n",
        "study = optuna.create_study(direction=\"maximize\")\n",
        "study.optimize(objective_gb, n_trials=50)"
      ],
      "metadata": {
        "colab": {
          "base_uri": "https://localhost:8080/"
        },
        "id": "nul52vmdFysS",
        "outputId": "de704e8a-6303-443c-ab27-b3e5dec7501c"
      },
      "execution_count": null,
      "outputs": [
        {
          "output_type": "stream",
          "name": "stderr",
          "text": [
            "[I 2023-06-28 18:32:39,006] A new study created in memory with name: no-name-e9f143ef-007f-4833-9a06-5b77e124a100\n",
            "[I 2023-06-28 18:32:53,562] Trial 0 finished with value: 0.9382215986088004 and parameters: {'max_depth': 3, 'n_estimators': 920}. Best is trial 0 with value: 0.9382215986088004.\n",
            "[I 2023-06-28 18:32:55,851] Trial 1 finished with value: 0.9219905640189271 and parameters: {'max_depth': 2, 'n_estimators': 251}. Best is trial 0 with value: 0.9382215986088004.\n",
            "[I 2023-06-28 18:33:14,508] Trial 2 finished with value: 0.9299934487675175 and parameters: {'max_depth': 8, 'n_estimators': 581}. Best is trial 0 with value: 0.9382215986088004.\n",
            "[I 2023-06-28 18:33:41,712] Trial 3 finished with value: 0.922234034695745 and parameters: {'max_depth': 11, 'n_estimators': 615}. Best is trial 0 with value: 0.9382215986088004.\n",
            "[I 2023-06-28 18:33:53,938] Trial 4 finished with value: 0.9371830281765364 and parameters: {'max_depth': 5, 'n_estimators': 553}. Best is trial 0 with value: 0.9382215986088004.\n",
            "[I 2023-06-28 18:33:55,670] Trial 5 finished with value: 0.9159815142362889 and parameters: {'max_depth': 13, 'n_estimators': 38}. Best is trial 0 with value: 0.9382215986088004.\n",
            "[I 2023-06-28 18:34:15,811] Trial 6 finished with value: 0.9008100742076294 and parameters: {'max_depth': 17, 'n_estimators': 333}. Best is trial 0 with value: 0.9382215986088004.\n",
            "[I 2023-06-28 18:34:23,337] Trial 7 finished with value: 0.9374222911723479 and parameters: {'max_depth': 3, 'n_estimators': 555}. Best is trial 0 with value: 0.9382215986088004.\n",
            "[I 2023-06-28 18:34:35,783] Trial 8 finished with value: 0.9383643969665098 and parameters: {'max_depth': 3, 'n_estimators': 838}. Best is trial 8 with value: 0.9383643969665098.\n",
            "[I 2023-06-28 18:34:51,511] Trial 9 finished with value: 0.9366767621303961 and parameters: {'max_depth': 4, 'n_estimators': 898}. Best is trial 8 with value: 0.9383643969665098.\n",
            "[I 2023-06-28 18:35:38,040] Trial 10 finished with value: 0.8969841953193672 and parameters: {'max_depth': 19, 'n_estimators': 765}. Best is trial 8 with value: 0.9383643969665098.\n",
            "[I 2023-06-28 18:36:09,066] Trial 11 finished with value: 0.9300614608087144 and parameters: {'max_depth': 8, 'n_estimators': 976}. Best is trial 8 with value: 0.9383643969665098.\n",
            "[I 2023-06-28 18:36:31,662] Trial 12 finished with value: 0.9314498218339532 and parameters: {'max_depth': 7, 'n_estimators': 775}. Best is trial 8 with value: 0.9383643969665098.\n",
            "[I 2023-06-28 18:37:06,172] Trial 13 finished with value: 0.9211338899598643 and parameters: {'max_depth': 11, 'n_estimators': 810}. Best is trial 8 with value: 0.9383643969665098.\n",
            "[I 2023-06-28 18:37:30,941] Trial 14 finished with value: 0.9333036587543155 and parameters: {'max_depth': 6, 'n_estimators': 958}. Best is trial 8 with value: 0.9383643969665098.\n",
            "[I 2023-06-28 18:37:38,674] Trial 15 finished with value: 0.9329356577713815 and parameters: {'max_depth': 2, 'n_estimators': 705}. Best is trial 8 with value: 0.9383643969665098.\n",
            "[I 2023-06-28 18:37:59,151] Trial 16 finished with value: 0.9152759724705953 and parameters: {'max_depth': 13, 'n_estimators': 406}. Best is trial 8 with value: 0.9383643969665098.\n",
            "[I 2023-06-28 18:38:18,033] Trial 17 finished with value: 0.9360137784091253 and parameters: {'max_depth': 5, 'n_estimators': 863}. Best is trial 8 with value: 0.9383643969665098.\n",
            "[I 2023-06-28 18:38:43,914] Trial 18 finished with value: 0.9292614286385703 and parameters: {'max_depth': 9, 'n_estimators': 678}. Best is trial 8 with value: 0.9383643969665098.\n",
            "[I 2023-06-28 18:39:36,443] Trial 19 finished with value: 0.9114955317133665 and parameters: {'max_depth': 14, 'n_estimators': 998}. Best is trial 8 with value: 0.9383643969665098.\n",
            "[I 2023-06-28 18:39:51,924] Trial 20 finished with value: 0.9366464103787919 and parameters: {'max_depth': 4, 'n_estimators': 885}. Best is trial 8 with value: 0.9383643969665098.\n",
            "[I 2023-06-28 18:39:57,370] Trial 21 finished with value: 0.9286693107949523 and parameters: {'max_depth': 2, 'n_estimators': 459}. Best is trial 8 with value: 0.9383643969665098.\n",
            "[I 2023-06-28 18:39:59,873] Trial 22 finished with value: 0.9339715469249251 and parameters: {'max_depth': 4, 'n_estimators': 156}. Best is trial 8 with value: 0.9383643969665098.\n",
            "[I 2023-06-28 18:40:08,878] Trial 23 finished with value: 0.9381072440525903 and parameters: {'max_depth': 3, 'n_estimators': 691}. Best is trial 8 with value: 0.9383643969665098.\n",
            "[I 2023-06-28 18:40:26,061] Trial 24 finished with value: 0.9342051758759901 and parameters: {'max_depth': 6, 'n_estimators': 689}. Best is trial 8 with value: 0.9383643969665098.\n",
            "[I 2023-06-28 18:40:55,558] Trial 25 finished with value: 0.9292463889009831 and parameters: {'max_depth': 9, 'n_estimators': 826}. Best is trial 8 with value: 0.9383643969665098.\n",
            "[I 2023-06-28 18:41:05,597] Trial 26 finished with value: 0.9381136303361118 and parameters: {'max_depth': 3, 'n_estimators': 737}. Best is trial 8 with value: 0.9383643969665098.\n",
            "[I 2023-06-28 18:41:27,804] Trial 27 finished with value: 0.9331868879240505 and parameters: {'max_depth': 6, 'n_estimators': 919}. Best is trial 8 with value: 0.9383643969665098.\n",
            "[I 2023-06-28 18:41:39,345] Trial 28 finished with value: 0.9382133598233838 and parameters: {'max_depth': 3, 'n_estimators': 794}. Best is trial 8 with value: 0.9383643969665098.\n",
            "[I 2023-06-28 18:41:48,178] Trial 29 finished with value: 0.9341673429982652 and parameters: {'max_depth': 2, 'n_estimators': 822}. Best is trial 8 with value: 0.9383643969665098.\n",
            "[I 2023-06-28 18:42:01,059] Trial 30 finished with value: 0.9373051331821651 and parameters: {'max_depth': 5, 'n_estimators': 624}. Best is trial 8 with value: 0.9383643969665098.\n",
            "[I 2023-06-28 18:42:11,140] Trial 31 finished with value: 0.9382548100531064 and parameters: {'max_depth': 3, 'n_estimators': 775}. Best is trial 8 with value: 0.9383643969665098.\n",
            "[I 2023-06-28 18:42:21,164] Trial 32 finished with value: 0.934895301043391 and parameters: {'max_depth': 2, 'n_estimators': 926}. Best is trial 8 with value: 0.9383643969665098.\n",
            "[I 2023-06-28 18:42:36,254] Trial 33 finished with value: 0.9368489823127509 and parameters: {'max_depth': 4, 'n_estimators': 856}. Best is trial 8 with value: 0.9383643969665098.\n",
            "[I 2023-06-28 18:42:55,449] Trial 34 finished with value: 0.9322541757880566 and parameters: {'max_depth': 7, 'n_estimators': 638}. Best is trial 8 with value: 0.9383643969665098.\n",
            "[I 2023-06-28 18:43:05,310] Trial 35 finished with value: 0.9383641403556938 and parameters: {'max_depth': 3, 'n_estimators': 772}. Best is trial 8 with value: 0.9383643969665098.\n",
            "[I 2023-06-28 18:43:16,155] Trial 36 finished with value: 0.9374915635838975 and parameters: {'max_depth': 5, 'n_estimators': 514}. Best is trial 8 with value: 0.9383643969665098.\n",
            "[I 2023-06-28 18:43:38,248] Trial 37 finished with value: 0.9319188401627002 and parameters: {'max_depth': 7, 'n_estimators': 752}. Best is trial 8 with value: 0.9383643969665098.\n",
            "[I 2023-06-28 18:44:02,817] Trial 38 finished with value: 0.9264498383443783 and parameters: {'max_depth': 10, 'n_estimators': 608}. Best is trial 8 with value: 0.9383643969665098.\n",
            "[I 2023-06-28 18:44:54,856] Trial 39 finished with value: 0.9043059961284837 and parameters: {'max_depth': 16, 'n_estimators': 945}. Best is trial 8 with value: 0.9383643969665098.\n",
            "[I 2023-06-28 18:45:12,241] Trial 40 finished with value: 0.8957491295325228 and parameters: {'max_depth': 20, 'n_estimators': 291}. Best is trial 8 with value: 0.9383643969665098.\n",
            "[I 2023-06-28 18:45:22,644] Trial 41 finished with value: 0.938146633637999 and parameters: {'max_depth': 3, 'n_estimators': 800}. Best is trial 8 with value: 0.9383643969665098.\n",
            "[I 2023-06-28 18:45:34,101] Trial 42 finished with value: 0.9382501029424848 and parameters: {'max_depth': 3, 'n_estimators': 879}. Best is trial 8 with value: 0.9383643969665098.\n",
            "[I 2023-06-28 18:45:50,185] Trial 43 finished with value: 0.9365426773524274 and parameters: {'max_depth': 4, 'n_estimators': 869}. Best is trial 8 with value: 0.9383643969665098.\n",
            "[I 2023-06-28 18:46:08,805] Trial 44 finished with value: 0.9359128451170816 and parameters: {'max_depth': 5, 'n_estimators': 895}. Best is trial 8 with value: 0.9383643969665098.\n",
            "[I 2023-06-28 18:46:21,082] Trial 45 finished with value: 0.9380408864403695 and parameters: {'max_depth': 3, 'n_estimators': 743}. Best is trial 8 with value: 0.9383643969665098.\n",
            "[I 2023-06-28 18:46:29,971] Trial 46 finished with value: 0.9350497473486546 and parameters: {'max_depth': 2, 'n_estimators': 961}. Best is trial 8 with value: 0.9383643969665098.\n",
            "[I 2023-06-28 18:46:50,978] Trial 47 finished with value: 0.9335492944124327 and parameters: {'max_depth': 6, 'n_estimators': 844}. Best is trial 8 with value: 0.9383643969665098.\n",
            "[I 2023-06-28 18:47:00,921] Trial 48 finished with value: 0.9385291472763163 and parameters: {'max_depth': 4, 'n_estimators': 561}. Best is trial 48 with value: 0.9385291472763163.\n",
            "[I 2023-06-28 18:47:08,481] Trial 49 finished with value: 0.9382604696727167 and parameters: {'max_depth': 4, 'n_estimators': 482}. Best is trial 48 with value: 0.9385291472763163.\n"
          ]
        }
      ]
    },
    {
      "cell_type": "code",
      "source": [
        "p_gb_best = Pipeline([\n",
        "    ('encoder_',TargetEncoder(cols=cat_cols, smoothing=1)),\n",
        "    ('scaler_', StandardScaler()),\n",
        "    ('gb', GradientBoostingRegressor(max_depth=4, n_estimators=561, random_state=RANDOM_STATE))\n",
        "    ])"
      ],
      "metadata": {
        "id": "A0Bf7OYMW6RP"
      },
      "execution_count": null,
      "outputs": []
    },
    {
      "cell_type": "code",
      "source": [
        "p_gb_best.fit(Xtrain, ytrain)\n",
        "pred = p_gb_best.predict(Xtest)\n",
        "pred = np.expm1(pred)\n",
        "test = np.expm1(ytest)\n",
        "print(r2_score(test, pred))"
      ],
      "metadata": {
        "id": "XchDGhhBXH22",
        "colab": {
          "base_uri": "https://localhost:8080/"
        },
        "outputId": "34d4454f-b082-4c0f-be4b-19da98303759"
      },
      "execution_count": null,
      "outputs": [
        {
          "output_type": "stream",
          "name": "stdout",
          "text": [
            "0.9790927602162188\n"
          ]
        }
      ]
    },
    {
      "cell_type": "markdown",
      "source": [
        "Подбор гиперпараметров для GradientBoostingRegressor повысил метрику качества на 0,0262.\n",
        "\n",
        "\n",
        "Из трех моделей наилучшая метрика у GradientBoostingRegressor."
      ],
      "metadata": {
        "id": "B8nPhTEJ_gan"
      }
    },
    {
      "cell_type": "markdown",
      "source": [
        "Проверим даст ли повышения качества сочетание моделей."
      ],
      "metadata": {
        "id": "ACDlmTi3Abw9"
      }
    },
    {
      "cell_type": "code",
      "source": [
        "pred_rf = np.expm1(p_rf_best.predict(Xtest))\n",
        "pred_gb = np.expm1(p_gb_best.predict(Xtest))\n",
        "pred_svr = np.expm1(p_svr_best.predict(Xtest))"
      ],
      "metadata": {
        "id": "GWh5x8JTOTI0"
      },
      "execution_count": null,
      "outputs": []
    },
    {
      "cell_type": "code",
      "source": [
        "for i in np.arange(0.1, 1.0, 0.1):\n",
        "  i = round(i, 1)\n",
        "  pred = i * pred_rf + (1-i) * pred_gb\n",
        "  print(i, '--', r2_score(test, pred))"
      ],
      "metadata": {
        "colab": {
          "base_uri": "https://localhost:8080/"
        },
        "id": "sF6EdXKwOxrs",
        "outputId": "b87ba90a-3f42-4fe2-b0f2-3a7c688e7571"
      },
      "execution_count": null,
      "outputs": [
        {
          "output_type": "stream",
          "name": "stdout",
          "text": [
            "0.1 -- 0.9795196916390837\n",
            "0.2 -- 0.9797592589744456\n",
            "0.3 -- 0.9798114622223046\n",
            "0.4 -- 0.9796763013826606\n",
            "0.5 -- 0.9793537764555136\n",
            "0.6 -- 0.9788438874408637\n",
            "0.7 -- 0.9781466343387107\n",
            "0.8 -- 0.9772620171490549\n",
            "0.9 -- 0.976190035871896\n"
          ]
        }
      ]
    },
    {
      "cell_type": "code",
      "source": [
        "for i in np.arange(0.1, 1.0, 0.1):\n",
        "  i = round(i, 1)\n",
        "  pred = i * pred_svr + (1-i) * pred_gb\n",
        "  print(i, '--', r2_score(test, pred))"
      ],
      "metadata": {
        "colab": {
          "base_uri": "https://localhost:8080/"
        },
        "id": "WhMaIR26QoaV",
        "outputId": "22192ff5-26bd-4759-8a7b-9d029bfad76a"
      },
      "execution_count": null,
      "outputs": [
        {
          "output_type": "stream",
          "name": "stdout",
          "text": [
            "0.1 -- 0.9790955692174361\n",
            "0.2 -- 0.9787716314584238\n",
            "0.3 -- 0.9779837193214829\n",
            "0.4 -- 0.9767318328066131\n",
            "0.5 -- 0.9750159719138147\n",
            "0.6 -- 0.9728361366430875\n",
            "0.7 -- 0.9701923269944317\n",
            "0.8 -- 0.9670845429678471\n",
            "0.9 -- 0.9635127845633338\n"
          ]
        }
      ]
    },
    {
      "cell_type": "code",
      "source": [
        "for i in np.arange(0.1, 1.0, 0.1):\n",
        "  i = round(i, 1)\n",
        "  pred = i * pred_svr + (1-i) * pred_rf\n",
        "  print(i, '--', r2_score(test, pred))"
      ],
      "metadata": {
        "colab": {
          "base_uri": "https://localhost:8080/"
        },
        "id": "60xTfQOURMZc",
        "outputId": "fc7959fd-264a-4987-fb0e-403326b1bce1"
      },
      "execution_count": null,
      "outputs": [
        {
          "output_type": "stream",
          "name": "stdout",
          "text": [
            "0.1 -- 0.9758572830232164\n",
            "0.2 -- 0.9762345518972838\n",
            "0.3 -- 0.9760624971294365\n",
            "0.4 -- 0.9753411187196744\n",
            "0.5 -- 0.9740704166679975\n",
            "0.6 -- 0.9722503909744059\n",
            "0.7 -- 0.9698810416388995\n",
            "0.8 -- 0.9669623686614783\n",
            "0.9 -- 0.9634943720421425\n"
          ]
        }
      ]
    },
    {
      "cell_type": "markdown",
      "source": [
        "Максимальную прибавку дало сочетание градиетнтого бустинга и случайного леса, но она незначительная: 0,0007.\n",
        "\n",
        "Для итоговой модели будем использовать GradientBoostingRegressor с гиперпараметрами: max_depth=4, n_estimators=561."
      ],
      "metadata": {
        "id": "q2TZ-nH0Bmx5"
      }
    }
  ]
}